{
 "cells": [
  {
   "cell_type": "markdown",
   "id": "e3e6fbbb",
   "metadata": {},
   "source": [
    "# 1. 開啟瀏覽器，進到蝦皮搜尋首頁，並輸入關鍵字"
   ]
  },
  {
   "cell_type": "markdown",
   "id": "19643752",
   "metadata": {},
   "source": [
    "## 1.1 引用套件，並準備一些瀏覽器基礎設定"
   ]
  },
  {
   "cell_type": "code",
   "execution_count": null,
   "id": "9d5e00a8",
   "metadata": {},
   "outputs": [],
   "source": [
    "from selenium import webdriver\n",
    "from selenium.webdriver.common.by import By\n",
    "from selenium.webdriver.common.action_chains import ActionChains\n",
    "import time\n",
    "import re\n",
    "from bs4 import BeautifulSoup\n",
    "from lxml import etree\n",
    "import pandas as pd\n",
    "\n",
    "\n",
    "# 關閉通知\n",
    "options = webdriver.ChromeOptions()\n",
    "prefs = {\n",
    "    'profile.default_content_setting_values':\n",
    "        {\n",
    "            'notifications': 2\n",
    "        }\n",
    "}\n",
    "options.add_experimental_option('prefs', prefs)\n",
    "options.add_argument(\"disable-infobars\")"
   ]
  },
  {
   "cell_type": "markdown",
   "id": "8dd18575",
   "metadata": {},
   "source": [
    "## 1.2 開啟瀏覽器，在蝦皮以關鍵字進行搜尋 "
   ]
  },
  {
   "cell_type": "code",
   "execution_count": null,
   "id": "782b2e74",
   "metadata": {},
   "outputs": [],
   "source": [
    "# 打啟動selenium 務必確認driver 檔案跟python 檔案要在同個資料夾中\n",
    "# 在這邊下載: https://chromedriver.chromium.org/downloads\n",
    "driver = webdriver.Chrome(options=options)\n",
    "keyword = \"三多葉黃素\"\n",
    "driver.get(f\"https://shopee.tw/search?keyword={keyword}&order=asc&page=0&sortBy=price\")\n",
    "time.sleep(4)"
   ]
  },
  {
   "cell_type": "markdown",
   "id": "5f862180",
   "metadata": {},
   "source": [
    "## 1.3 往下滑三次，確保60筆搜尋結果都有顯現出來 (效果意外地不理想，待解決)"
   ]
  },
  {
   "cell_type": "markdown",
   "id": "1388b023",
   "metadata": {},
   "source": [
    "- 好像滑過頭，沒有觸發到讀取資料"
   ]
  },
  {
   "cell_type": "code",
   "execution_count": null,
   "id": "eea99979",
   "metadata": {},
   "outputs": [],
   "source": [
    "# 往下滑\n",
    "for i in range(0,3):\n",
    "    driver.execute_script(\"window.scrollTo(0, document.body.scrollHeight)\")\n",
    "    time.sleep(3)\n",
    "print(\"滑好了\")"
   ]
  },
  {
   "cell_type": "markdown",
   "id": "84d16dfc",
   "metadata": {},
   "source": [
    "# 2. 擷取網頁資料"
   ]
  },
  {
   "cell_type": "markdown",
   "id": "c272cc06",
   "metadata": {},
   "source": [
    "## 2.1 擷取並解析 HTML"
   ]
  },
  {
   "cell_type": "code",
   "execution_count": null,
   "id": "f7c6d46a",
   "metadata": {},
   "outputs": [],
   "source": [
    "html = etree.HTML(driver.page_source)\n",
    "soup = BeautifulSoup(driver.page_source, \"html.parser\")"
   ]
  },
  {
   "cell_type": "markdown",
   "id": "c24e6863",
   "metadata": {},
   "source": [
    "## 2.2 選擇搜尋結果"
   ]
  },
  {
   "cell_type": "code",
   "execution_count": null,
   "id": "53fa80dc",
   "metadata": {},
   "outputs": [],
   "source": [
    "all_ = soup.find_all(\"div\", class_=\"shopee-search-item-result\")\n",
    "print(len(all_))"
   ]
  },
  {
   "cell_type": "code",
   "execution_count": null,
   "id": "78cbf1db",
   "metadata": {},
   "outputs": [],
   "source": [
    "all_total = all_[0].find_all(\"span\", class_=\"shopee-mini-page-controller__total\")\n",
    "total = all_total[0].text\n",
    "print(total)\n",
    "\n",
    "all_current = all_[0].find_all(\"span\", class_=\"shopee-mini-page-controller__current\")\n",
    "current = all_current[0].text\n",
    "print(current)"
   ]
  },
  {
   "cell_type": "markdown",
   "id": "5b4ac890",
   "metadata": {},
   "source": [
    "## 2.3 獲取商品資訊"
   ]
  },
  {
   "cell_type": "markdown",
   "id": "4f3b557a",
   "metadata": {},
   "source": [
    "### 2.3.1 確認商品數量"
   ]
  },
  {
   "cell_type": "code",
   "execution_count": null,
   "id": "f6f0e904",
   "metadata": {},
   "outputs": [],
   "source": [
    "# all_result = all_[0].find_all(\"div\", class_=\"VTjd7p whIxGK\")\n",
    "all_result = all_[0].find_all(\"div\", class_=\"col-xs-2-4 shopee-search-item-result__item\")\n",
    "print(len(all_result))"
   ]
  },
  {
   "cell_type": "markdown",
   "id": "ca022608",
   "metadata": {},
   "source": [
    "### 2.3.2 指定其中一個產品，測試抓取資料是否成功"
   ]
  },
  {
   "cell_type": "code",
   "execution_count": null,
   "id": "e23852b5",
   "metadata": {},
   "outputs": [],
   "source": [
    "# 指定要分析第幾個產品\n",
    "product = all_result[10]\n",
    "\n",
    "name = product.find_all(\"div\", class_=\"ie3A+n bM+7UW Cve6sh\")[0].text\n",
    "price = product.find_all(\"div\", {\"class\": [\"vioxXd\", \"rVLWG6h\"]})[0].text\n",
    "sold = product.find_all(\"div\", {\"class\": [\"r6HknA\", \"uEPGHT\"]})[0].text\n",
    "img = product.find_all(\"img\", {\"class\": [\"_7DTxhh\", \"vc8g9F\"]})[0][\"src\"]\n",
    "href = product.find_all(\"a\", {\"data-sqe\": \"link\"})[0][\"href\"]\n",
    "\n",
    "if sold != \"\":\n",
    "    sold = sold[4:]   # 移除「已售出」\n",
    "\n",
    "print(name)\n",
    "print(price)\n",
    "print(sold)\n",
    "print(img)\n",
    "print(f\"https://shopee.tw{href}\")"
   ]
  },
  {
   "cell_type": "markdown",
   "id": "521d2bdf",
   "metadata": {},
   "source": [
    "### 2.3.3 抓取這一頁全部的產品資料，並存成 excel 和 html 檔"
   ]
  },
  {
   "cell_type": "markdown",
   "id": "c9295f94",
   "metadata": {},
   "source": [
    "#### 優先處理：\n",
    "    - 自動往下滑的部分要解決\n",
    "    - 改用 Colab\n",
    "        - 目前問題：可以用selenium得到資料，但沒有視窗開啟，且因為沒有往下滑，資料並不完整\n",
    "        - 神奇的是，有60筆資料\n",
    "        - 應該是中後半段有些標籤內容抓不到\n",
    "\n",
    "#### TODO list\n",
    "    - 價格低於某個數值，將表格填色\n",
    "    - 如果是廣告，標註起來\n",
    "    - 價格呈現優化\n",
    "\n",
    "#### 無關緊要的TODO list\n",
    "    - find_all 應該可以換成 find\n",
    "    - 過長標題自動換行 (e.g. 用<br>)\n",
    "    - 關鍵字 highlight (e.g. 用<mark></mark>)\n",
    "    \n"
   ]
  },
  {
   "cell_type": "code",
   "execution_count": null,
   "id": "3cc2365e",
   "metadata": {},
   "outputs": [],
   "source": [
    "def path_to_image_html(path):\n",
    "    return '<img src=\"'+ path + '\" width=\"100\" >'\n",
    "\n",
    "def href_to_full_path(href):\n",
    "    return f'<a href=\"https://shopee.tw{href}\">link</a>'\n",
    "\n",
    "name_list = []\n",
    "img_list = []\n",
    "price_list = []\n",
    "sold_list = []\n",
    "href_list = []\n",
    "\n",
    "for product in all_result:\n",
    "#     name = product.find_all(\"div\", class_=\"ie3A+n bM+7UW Cve6sh\")[0].text\n",
    "#     img = product.find_all(\"img\", {\"class\": [\"_7DTxhh\", \"vc8g9F\"]})[0][\"src\"]\n",
    "#     price = product.find_all(\"div\", {\"class\": [\"vioxXd\", \"rVLWG6h\"]})[0].text\n",
    "#     sold = product.find_all(\"div\", {\"class\": [\"r6HknA\", \"uEPGHT\"]})[0].text\n",
    "#     href = product.find_all(\"a\", {\"data-sqe\": \"link\"})[0][\"href\"]\n",
    "    \n",
    "    try:\n",
    "        name = product.find_all(\"div\", class_=\"ie3A+n bM+7UW Cve6sh\")[0].text\n",
    "    except:\n",
    "        name = \"\"\n",
    "    \n",
    "    try:\n",
    "        img = product.find_all(\"img\", {\"class\": [\"_7DTxhh\", \"vc8g9F\"]})[0][\"src\"]\n",
    "    except:\n",
    "        img = \"\"\n",
    "        \n",
    "    try:\n",
    "        price = product.find_all(\"div\", {\"class\": [\"vioxXd\", \"rVLWG6h\"]})[0].text\n",
    "    except:\n",
    "        price = \"\"\n",
    "    \n",
    "    try:\n",
    "        sold = product.find_all(\"div\", {\"class\": [\"r6HknA\", \"uEPGHT\"]})[0].text\n",
    "    except:\n",
    "        sold = \"\"\n",
    "    \n",
    "    try:\n",
    "        href = product.find_all(\"a\", {\"data-sqe\": \"link\"})[0][\"href\"]\n",
    "    except:\n",
    "        href = \"\"\n",
    "    \n",
    "    if sold != \"\":\n",
    "        sold = sold[4:]   # 移除「已售出」\n",
    "    \n",
    "    name_list.append(name)\n",
    "    img_list.append(path_to_image_html(img))\n",
    "    price_list.append(price)\n",
    "    sold_list.append(sold)\n",
    "    href_list.append(href_to_full_path(href))\n",
    "\n",
    "data = {\n",
    "    \"name\": name_list,\n",
    "    \"img\": img_list,\n",
    "    \"price\": price_list,\n",
    "    \"sold\": sold_list,\n",
    "    \"href\": href_list\n",
    "}\n",
    "\n",
    "df = pd.DataFrame(data)\n",
    "\n",
    "df.to_excel(\"data.xlsx\")\n",
    "\n",
    "# df.to_html(\"data.html\")\n",
    "df.to_html(f\"{keyword}.html\", escape=False, formatters=dict(Country=path_to_image_html))\n",
    "\n",
    "df"
   ]
  },
  {
   "cell_type": "code",
   "execution_count": null,
   "id": "42b9b8ae",
   "metadata": {},
   "outputs": [],
   "source": []
  }
 ],
 "metadata": {
  "kernelspec": {
   "display_name": "Python 3 (ipykernel)",
   "language": "python",
   "name": "python3"
  },
  "language_info": {
   "codemirror_mode": {
    "name": "ipython",
    "version": 3
   },
   "file_extension": ".py",
   "mimetype": "text/x-python",
   "name": "python",
   "nbconvert_exporter": "python",
   "pygments_lexer": "ipython3",
   "version": "3.7.9"
  }
 },
 "nbformat": 4,
 "nbformat_minor": 5
}
